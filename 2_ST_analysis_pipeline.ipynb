{
 "cells": [
  {
   "cell_type": "markdown",
   "id": "ed8db463-f8d9-407a-911e-579002aca574",
   "metadata": {},
   "source": [
    "# Spatial Transcriptomics Analysis Pipeline"
   ]
  },
  {
   "cell_type": "markdown",
   "id": "e30d49d2-9a47-42c0-8b4b-7186bb5cdd79",
   "metadata": {},
   "source": [
    "### This script processes spatial transcriptomics data, filters and analyzes metal abundances, and visualizes correlations with cell abundance and gene expression."
   ]
  },
  {
   "cell_type": "code",
   "execution_count": null,
   "id": "c7c7fecc-8fd0-4bcf-96ac-1f27753e5761",
   "metadata": {},
   "outputs": [],
   "source": [
    "from esda import G_Local\n",
    "import pandas as pd\n",
    "import pickle5 as p\n",
    "import numpy as np\n",
    "from sklearn.metrics import pairwise_distances\n",
    "import alphashape\n",
    "from shapely.geometry import MultiPoint, Point, LineString, LinearRing, Polygon\n",
    "import geopandas as gpd\n",
    "import libpysal\n",
    "from matplotlib.patches import Wedge\n",
    "import matplotlib\n",
    "import matplotlib.pyplot as plt\n",
    "from mpl_toolkits.axes_grid1 import AxesGrid\n",
    "import tifffile\n",
    "import cv2\n",
    "import seaborn as sns\n",
    "import tqdm\n",
    "from scipy.stats import ranksums\n",
    "import statsmodels.formula.api as smf\n",
    "import statsmodels.api as sm"
   ]
  },
  {
   "cell_type": "markdown",
   "id": "e9a079af-63c7-4861-96fd-3101a2d7beb3",
   "metadata": {},
   "source": [
    "## Load metal abundances data"
   ]
  },
  {
   "cell_type": "code",
   "execution_count": null,
   "id": "11822807-718d-447a-bb2f-553c014605c9",
   "metadata": {},
   "outputs": [],
   "source": [
    "with open(\"./grouped_ST_metal_spots_records.pkl\", \"rb\") as fh:\n",
    "    metal_abundances = pd.DataFrame.from_records(p.load(fh)).drop(columns=[\"index\"])"
   ]
  },
  {
   "cell_type": "markdown",
   "id": "4df49713-b1dd-4595-ae4d-de1c812a082c",
   "metadata": {},
   "source": [
    "## Compute minimum nonzero pairwise distance"
   ]
  },
  {
   "cell_type": "code",
   "execution_count": null,
   "id": "0a2ec213-d667-4aaf-95c6-4f03623831f2",
   "metadata": {},
   "outputs": [],
   "source": [
    "s = pd.Series(pairwise_distances(metal_abundances[[\"ST_x\", \"ST_y\"]]).flatten())\n",
    "min_distance = s[s > 0].min()"
   ]
  },
  {
   "cell_type": "markdown",
   "id": "cf3740c6-4cae-4180-9525-8afe27e4a4a9",
   "metadata": {},
   "source": [
    "## Generate Alpha Shape for spatial filtering"
   ]
  },
  {
   "cell_type": "code",
   "execution_count": null,
   "id": "27da8a68-f735-4699-b9ec-b95ba36ca641",
   "metadata": {},
   "outputs": [],
   "source": [
    "np.random.seed(42)\n",
    "n_neighbors_drop = 2\n",
    "alpha_shape = alphashape.alphashape(metal_abundances[[\"ST_x\", \"ST_y\"]].values, 1 / (min_distance * np.sqrt(2)))\n",
    "ring_coords = Wedge((0, 0), 25000, 237, 292)._path.vertices\n",
    "ring_coords += np.array(alpha_shape.exterior.buffer(min_distance * np.sqrt(2) * n_neighbors_drop).centroid.coords[0])\n",
    "ring = Polygon(ring_coords)\n",
    "alpha_shape_exterior = (alpha_shape.exterior.buffer(min_distance * np.sqrt(2) * n_neighbors_drop)).intersection(ring.buffer(200)).union(alpha_shape.exterior.buffer(min_distance * np.sqrt(2)))"
   ]
  },
  {
   "cell_type": "markdown",
   "id": "64cc72b0-d164-4473-9dd0-2a1725427bc8",
   "metadata": {},
   "source": [
    "## Filter metal abundances"
   ]
  },
  {
   "cell_type": "code",
   "execution_count": null,
   "id": "d4f7ee56-8c9c-40eb-8320-e8a273583c97",
   "metadata": {},
   "outputs": [],
   "source": [
    "points = gpd.GeoSeries([Point(*x) for x in metal_abundances[[\"ST_x\", \"ST_y\"]].values.tolist()])\n",
    "metal_abundances = metal_abundances[(~points.intersects(alpha_shape_exterior)).values]"
   ]
  },
  {
   "cell_type": "markdown",
   "id": "03d7b073-00c9-4b9e-8bf2-acc600bb3ca1",
   "metadata": {},
   "source": [
    "## Save filtered data"
   ]
  },
  {
   "cell_type": "code",
   "execution_count": null,
   "id": "585b37b1-3736-408f-98e2-04618f1cd28d",
   "metadata": {},
   "outputs": [],
   "source": [
    "pd.to_pickle(metal_abundances.to_records(), \"./grouped_ST_metal_spots_records_edge_filtered.pkl\")"
   ]
  },
  {
   "cell_type": "markdown",
   "id": "f8a97b39-5f51-4070-9297-236ac8f8db2d",
   "metadata": {},
   "source": [
    "## Load cell abundance and gene counts data"
   ]
  },
  {
   "cell_type": "code",
   "execution_count": null,
   "id": "fc096246-71c3-4fbf-9fb0-8291c455fbbb",
   "metadata": {},
   "outputs": [],
   "source": [
    "with open(\"./SC_deconvolved_ST.pkl\", \"rb\") as fh:\n",
    "    cell_abundance = pd.DataFrame.from_records(p.load(fh)).drop(columns=[\"index\"])\n",
    "cell_abundance.columns = cell_abundance.columns.map(lambda x: x.split(\"_\")[-1])\n",
    "cell_abundance = cell_abundance[cell_abundance.index.isin(metal_abundances[\"ST_spot_ID\"].values)]"
   ]
  },
  {
   "cell_type": "code",
   "execution_count": null,
   "id": "3a81a0d6-e0d2-4373-931a-3b760ecac0ea",
   "metadata": {},
   "outputs": [],
   "source": [
    "with open(\"./gene_counts_JL.pkl\", \"rb\") as fh:\n",
    "    gene_counts = pd.DataFrame.from_records(p.load(fh)).drop(columns=[\"index\"])\n",
    "gene_counts = gene_counts[gene_counts.index.isin(metal_abundances[\"ST_spot_ID\"].values)]"
   ]
  },
  {
   "cell_type": "markdown",
   "id": "f82a9bab-868e-4c51-b508-770851592936",
   "metadata": {},
   "source": [
    "## Load histology image"
   ]
  },
  {
   "cell_type": "code",
   "execution_count": null,
   "id": "4b40a3fe-a8d2-4ade-af25-45a817c2de95",
   "metadata": {},
   "outputs": [],
   "source": [
    "hne_image = tifffile.imread('./_SS12251_092842.svs')\n",
    "im_small = cv2.resize(hne_image, None, fx=1/15, fy=1/15)"
   ]
  },
  {
   "cell_type": "markdown",
   "id": "b64da6d2-50c9-4ad8-9539-83101c64ddd7",
   "metadata": {},
   "source": [
    "## Perform spatial statistics on metal elements"
   ]
  },
  {
   "cell_type": "code",
   "execution_count": null,
   "id": "71776c5f-499c-4e07-be3d-7f11b6b22c81",
   "metadata": {},
   "outputs": [],
   "source": [
    "np.random.seed(42)\n",
    "element = \"Cu63\"\n",
    "threshold_mult = 1\n",
    "w = libpysal.weights.DistanceBand(metal_abundances[[\"ST_x\", \"ST_y\"]], threshold=(min_distance * np.sqrt(2)) * threshold_mult + 5)\n",
    "lg = G_Local(metal_abundances[element], w, star=True)"
   ]
  },
  {
   "cell_type": "markdown",
   "id": "85c53226-98bc-4928-b81d-60b4886505be",
   "metadata": {},
   "source": [
    "## Plot metal abundance"
   ]
  },
  {
   "cell_type": "code",
   "execution_count": null,
   "id": "5ddcd28e-4857-402f-b1da-85fa557742eb",
   "metadata": {},
   "outputs": [],
   "source": [
    "vmax = lg.Zs.max()\n",
    "vmin = lg.Zs.min()\n",
    "plt.imshow(im_small)\n",
    "plt.scatter(*(metal_abundances[[\"ST_x\", \"ST_y\"]].values / 15).T.tolist(), c=lg.Zs, cmap=\"seismic\", s=0.25)\n",
    "plt.xlabel(\"x coord\")\n",
    "plt.ylabel(\"y coord\")\n",
    "plt.colorbar(label=f\"{element} HotSpot\")\n",
    "plt.show()"
   ]
  },
  {
   "cell_type": "markdown",
   "id": "f80170d3-1fd3-411e-aaa2-f9ebccf1ffb6",
   "metadata": {},
   "source": [
    "## Statistical analysis with GLM model"
   ]
  },
  {
   "cell_type": "code",
   "execution_count": null,
   "id": "bfab9ead-ecdb-4913-949b-3b90938cc677",
   "metadata": {},
   "outputs": [],
   "source": [
    "formula = 'SFRP2 ~ metal + Q(\"T cells\") + metal * Q(\"T cells\")'\n",
    "model_data = pd.concat([gene_counts, cell_abundance], axis=1).assign(metal=lambda x: lg.Zs > 0)\n",
    "model = smf.glm(formula=formula, data=model_data, family=sm.families.NegativeBinomial()).fit()"
   ]
  },
  {
   "cell_type": "code",
   "execution_count": null,
   "id": "2b982163-e528-4a0b-a7d8-d901c98011a1",
   "metadata": {},
   "outputs": [],
   "source": [
    "print(model.params, model.pvalues)"
   ]
  },
  {
   "cell_type": "code",
   "execution_count": null,
   "id": "32559768-ff6f-41b0-9766-301f0b1ee1f1",
   "metadata": {},
   "outputs": [],
   "source": []
  }
 ],
 "metadata": {
  "kernelspec": {
   "display_name": "Python 3 (ipykernel)",
   "language": "python",
   "name": "python3"
  },
  "language_info": {
   "codemirror_mode": {
    "name": "ipython",
    "version": 3
   },
   "file_extension": ".py",
   "mimetype": "text/x-python",
   "name": "python",
   "nbconvert_exporter": "python",
   "pygments_lexer": "ipython3",
   "version": "3.11.9"
  }
 },
 "nbformat": 4,
 "nbformat_minor": 5
}
