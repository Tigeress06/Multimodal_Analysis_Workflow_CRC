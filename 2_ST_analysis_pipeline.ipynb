{
 "cells": [
  {
   "cell_type": "markdown",
   "id": "ed8db463-f8d9-407a-911e-579002aca574",
   "metadata": {},
   "source": [
    "# Spatial Transcriptomics Analysis Pipeline"
   ]
  },
  {
   "cell_type": "markdown",
   "id": "e30d49d2-9a47-42c0-8b4b-7186bb5cdd79",
   "metadata": {},
   "source": [
    "### This script processes spatial transcriptomics data, filters and analyzes metal abundances, and visualizes correlations with cell abundance and gene expression."
   ]
  },
  {
   "cell_type": "code",
   "execution_count": null,
   "id": "c7c7fecc-8fd0-4bcf-96ac-1f27753e5761",
   "metadata": {},
   "outputs": [],
   "source": [
    "from esda import G_Local\n",
    "import pandas as pd\n",
    "import pickle5 as p\n",
    "import numpy as np\n",
    "from sklearn.metrics import pairwise_distances\n",
    "import alphashape\n",
    "from shapely.geometry import MultiPoint, Point, LineString, LinearRing, Polygon\n",
    "import geopandas as gpd\n",
    "import libpysal\n",
    "from matplotlib.patches import Wedge\n",
    "import matplotlib\n",
    "import matplotlib.pyplot as plt\n",
    "from mpl_toolkits.axes_grid1 import AxesGrid\n",
    "import tifffile\n",
    "import cv2\n",
    "import seaborn as sns\n",
    "import tqdm\n",
    "from scipy.stats import ranksums\n",
    "import statsmodels.formula.api as smf\n",
    "import statsmodels.api as sm"
   ]
  },
  {
   "cell_type": "markdown",
   "id": "e9a079af-63c7-4861-96fd-3101a2d7beb3",
   "metadata": {},
   "source": [
    "## Load metal abundances data"
   ]
  },
  {
   "cell_type": "code",
   "execution_count": null,
   "id": "11822807-718d-447a-bb2f-553c014605c9",
   "metadata": {},
   "outputs": [],
   "source": [
    "with open(\"./grouped_ST_metal_spots_records.pkl\", \"rb\") as fh:\n",
    "    metal_abundances = pd.DataFrame.from_records(p.load(fh)).drop(columns=[\"index\"])"
   ]
  },
  {
   "cell_type": "markdown",
   "id": "4df49713-b1dd-4595-ae4d-de1c812a082c",
   "metadata": {},
   "source": [
    "## Compute minimum nonzero pairwise distance"
   ]
  },
  {
   "cell_type": "code",
   "execution_count": null,
   "id": "0a2ec213-d667-4aaf-95c6-4f03623831f2",
   "metadata": {},
   "outputs": [],
   "source": [
    "s = pd.Series(pairwise_distances(metal_abundances[[\"ST_x\", \"ST_y\"]]).flatten())\n",
    "min_distance = s[s > 0].min()"
   ]
  },
  {
   "cell_type": "markdown",
   "id": "cf3740c6-4cae-4180-9525-8afe27e4a4a9",
   "metadata": {},
   "source": [
    "## Generate Alpha Shape for spatial filtering"
   ]
  },
  {
   "cell_type": "code",
   "execution_count": null,
   "id": "27da8a68-f735-4699-b9ec-b95ba36ca641",
   "metadata": {},
   "outputs": [],
   "source": [
    "np.random.seed(42)\n",
    "n_neighbors_drop = 2\n",
    "alpha_shape = alphashape.alphashape(metal_abundances[[\"ST_x\", \"ST_y\"]].values, 1 / (min_distance * np.sqrt(2)))\n",
    "ring_coords = Wedge((0, 0), 25000, 237, 292)._path.vertices\n",
    "ring_coords += np.array(alpha_shape.exterior.buffer(min_distance * np.sqrt(2) * n_neighbors_drop).centroid.coords[0])\n",
    "ring = Polygon(ring_coords)\n",
    "alpha_shape_exterior = (alpha_shape.exterior.buffer(min_distance * np.sqrt(2) * n_neighbors_drop)).intersection(ring.buffer(200)).union(alpha_shape.exterior.buffer(min_distance * np.sqrt(2)))"
   ]
  },
  {
   "cell_type": "markdown",
   "id": "64cc72b0-d164-4473-9dd0-2a1725427bc8",
   "metadata": {},
   "source": [
    "## Filter metal abundances"
   ]
  },
  {
   "cell_type": "code",
   "execution_count": null,
   "id": "d4f7ee56-8c9c-40eb-8320-e8a273583c97",
   "metadata": {},
   "outputs": [],
   "source": [
    "points = gpd.GeoSeries([Point(*x) for x in metal_abundances[[\"ST_x\", \"ST_y\"]].values.tolist()])\n",
    "metal_abundances = metal_abundances[(~points.intersects(alpha_shape_exterior)).values]"
   ]
  },
  {
   "cell_type": "markdown",
   "id": "03d7b073-00c9-4b9e-8bf2-acc600bb3ca1",
   "metadata": {},
   "source": [
    "## Save filtered data"
   ]
  },
  {
   "cell_type": "code",
   "execution_count": null,
   "id": "585b37b1-3736-408f-98e2-04618f1cd28d",
   "metadata": {},
   "outputs": [],
   "source": [
    "pd.to_pickle(metal_abundances.to_records(), \"./grouped_ST_metal_spots_records_edge_filtered.pkl\")"
   ]
  },
  {
   "cell_type": "markdown",
   "id": "f8a97b39-5f51-4070-9297-236ac8f8db2d",
   "metadata": {},
   "source": [
    "## Load cell abundance and gene counts data"
   ]
  },
  {
   "cell_type": "code",
   "execution_count": null,
   "id": "fc096246-71c3-4fbf-9fb0-8291c455fbbb",
   "metadata": {},
   "outputs": [],
   "source": [
    "with open(\"./SC_deconvolved_ST.pkl\", \"rb\") as fh:\n",
    "    cell_abundance = pd.DataFrame.from_records(p.load(fh)).drop(columns=[\"index\"])\n",
    "cell_abundance.columns = cell_abundance.columns.map(lambda x: x.split(\"_\")[-1])\n",
    "cell_abundance = cell_abundance[cell_abundance.index.isin(metal_abundances[\"ST_spot_ID\"].values)]"
   ]
  },
  {
   "cell_type": "code",
   "execution_count": null,
   "id": "3a81a0d6-e0d2-4373-931a-3b760ecac0ea",
   "metadata": {},
   "outputs": [],
   "source": [
    "with open(\"./gene_counts_JL.pkl\", \"rb\") as fh:\n",
    "    gene_counts = pd.DataFrame.from_records(p.load(fh)).drop(columns=[\"index\"])\n",
    "gene_counts = gene_counts[gene_counts.index.isin(metal_abundances[\"ST_spot_ID\"].values)]"
   ]
  },
  {
   "cell_type": "markdown",
   "id": "f82a9bab-868e-4c51-b508-770851592936",
   "metadata": {},
   "source": [
    "## Load histology image"
   ]
  },
  {
   "cell_type": "code",
   "execution_count": null,
   "id": "4b40a3fe-a8d2-4ade-af25-45a817c2de95",
   "metadata": {},
   "outputs": [],
   "source": [
    "hne_image = tifffile.imread('./_SS12251_092842.svs')\n",
    "im_small = cv2.resize(hne_image, None, fx=1/15, fy=1/15)"
   ]
  },
  {
   "cell_type": "markdown",
   "id": "b64da6d2-50c9-4ad8-9539-83101c64ddd7",
   "metadata": {},
   "source": [
    "## Perform spatial statistics on metal elements"
   ]
  },
  {
   "cell_type": "code",
   "execution_count": null,
   "id": "71776c5f-499c-4e07-be3d-7f11b6b22c81",
   "metadata": {},
   "outputs": [],
   "source": [
    "np.random.seed(42)\n",
    "element = \"Cu63\"\n",
    "threshold_mult = 1\n",
    "w = libpysal.weights.DistanceBand(metal_abundances[[\"ST_x\", \"ST_y\"]], threshold=(min_distance * np.sqrt(2)) * threshold_mult + 5)\n",
    "lg = G_Local(metal_abundances[element], w, star=True)"
   ]
  },
  {
   "cell_type": "markdown",
   "id": "85c53226-98bc-4928-b81d-60b4886505be",
   "metadata": {},
   "source": [
    "## Plot metal abundance"
   ]
  },
  {
   "cell_type": "code",
   "execution_count": null,
   "id": "5ddcd28e-4857-402f-b1da-85fa557742eb",
   "metadata": {},
   "outputs": [],
   "source": [
    "vmax = lg.Zs.max()\n",
    "vmin = lg.Zs.min()\n",
    "plt.imshow(im_small)\n",
    "plt.scatter(*(metal_abundances[[\"ST_x\", \"ST_y\"]].values / 15).T.tolist(), c=lg.Zs, cmap=\"seismic\", s=0.25)\n",
    "plt.xlabel(\"x coord\")\n",
    "plt.ylabel(\"y coord\")\n",
    "plt.colorbar(label=f\"{element} HotSpot\")\n",
    "plt.show()"
   ]
  },
  {
   "cell_type": "markdown",
   "id": "f80170d3-1fd3-411e-aaa2-f9ebccf1ffb6",
   "metadata": {},
   "source": [
    "## Statistical analysis with GLM model"
   ]
  },
  {
   "cell_type": "code",
   "execution_count": null,
   "id": "bfab9ead-ecdb-4913-949b-3b90938cc677",
   "metadata": {},
   "outputs": [],
   "source": [
    "formula = 'SFRP2 ~ metal + Q(\"T cells\") + metal * Q(\"T cells\")'\n",
    "model_data = pd.concat([gene_counts, cell_abundance], axis=1).assign(metal=lambda x: lg.Zs > 0)\n",
    "model = smf.glm(formula=formula, data=model_data, family=sm.families.NegativeBinomial()).fit()"
   ]
  },
  {
   "cell_type": "code",
   "execution_count": null,
   "id": "2b982163-e528-4a0b-a7d8-d901c98011a1",
   "metadata": {},
   "outputs": [],
   "source": [
    "print(model.params, model.pvalues)"
   ]
  },
  {
   "cell_type": "markdown",
   "id": "14ef4cf8-fd56-4ce4-a308-0f1bc3debaef",
   "metadata": {},
   "source": [
    "## Volcano plot for gene statistics"
   ]
  },
  {
   "cell_type": "code",
   "execution_count": null,
   "id": "e167da55-717b-44d0-8920-65b7f668a2b9",
   "metadata": {},
   "outputs": [],
   "source": [
    "plt.scatter(df_test[\"statistic\"], -np.log10(df_test[\"p\"]), s=0.5)\n",
    "plt.axhline(y=np.log10(len([gene for gene in tests if not gene.startswith(\"MT\")])), color='r', linestyle='--')\n",
    "sns.despine()\n",
    "plt.show()"
   ]
  },
  {
   "cell_type": "markdown",
   "id": "6b884474-1113-4659-b34e-31ed9f48c27b",
   "metadata": {},
   "source": [
    "## Annotate metal abundances with spatial annotations"
   ]
  },
  {
   "cell_type": "code",
   "execution_count": null,
   "id": "234323a5-9d22-4655-ab23-7ce2dc8ce3a2",
   "metadata": {},
   "outputs": [],
   "source": [
    "annots = gpd.read_file(\"./_SS12251_092842.geojson\")\n",
    "annots[\"annot\"] = annots[\"classification\"].map(lambda x: x[\"name\"])\n",
    "points = gpd.GeoDataFrame(geometry=gpd.GeoSeries([Point(*x) for x in metal_abundances[[\"ST_x\", \"ST_y\"]].values.tolist()]))\n",
    "points[\"ST_spot_ID\"] = metal_abundances[\"ST_spot_ID\"].values\n",
    "metal_abundances_annot = metal_abundances.merge(\n",
    "    points.sjoin(annots, how=\"left\").groupby(\"ST_spot_ID\").apply(lambda df: df.iloc[0])[['ST_spot_ID', 'annot']].reset_index(drop=True),\n",
    "    how=\"left\"\n",
    ")"
   ]
  },
  {
   "cell_type": "code",
   "execution_count": null,
   "id": "eb2c4b47-11d2-4c69-8e82-374c79e5b7f3",
   "metadata": {},
   "outputs": [],
   "source": [
    "metal_abundances_annot.loc[metal_abundances_annot[\"annot\"].isna(), \"annot\"] = \"unassigned\""
   ]
  },
  {
   "cell_type": "markdown",
   "id": "1bb5e6fc-a32e-4ae3-bc29-475f546cb00e",
   "metadata": {},
   "source": [
    "## Boxplots of metal abundance by annotation"
   ]
  },
  {
   "cell_type": "code",
   "execution_count": null,
   "id": "d2d26de2-4202-4922-9067-4d8bddd39777",
   "metadata": {},
   "outputs": [],
   "source": [
    "metal_list = ['Fe56', 'Cu63']\n",
    "dat_ = pd.concat([metal_abundances_annot, cell_abundance.reset_index(drop=True)], axis=1).melt(metal_abundances_annot.columns[[0, -3, -2, -1]].tolist() + cell_abundance.columns.tolist()).query(\"annot != 'unassigned'\").query(\"variable in @metal_list\").assign(T_cell=lambda x: pd.cut(x[\"T cells\"], 3))\n",
    "g = sns.FacetGrid(dat_, col=\"annot\", row=\"variable\", sharex=False, sharey=False)\n",
    "g.map_dataframe(sns.boxplot, y=\"value\", x=\"T_cell\")\n",
    "plt.show()"
   ]
  }
 ],
 "metadata": {
  "kernelspec": {
   "display_name": "Python 3 (ipykernel)",
   "language": "python",
   "name": "python3"
  },
  "language_info": {
   "codemirror_mode": {
    "name": "ipython",
    "version": 3
   },
   "file_extension": ".py",
   "mimetype": "text/x-python",
   "name": "python",
   "nbconvert_exporter": "python",
   "pygments_lexer": "ipython3",
   "version": "3.11.9"
  }
 },
 "nbformat": 4,
 "nbformat_minor": 5
}
