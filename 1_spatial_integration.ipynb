{
 "cells": [
  {
   "cell_type": "markdown",
   "id": "3968530c-db4a-4318-b889-4ac6ad5f99c6",
   "metadata": {},
   "source": [
    "# Spatial Integration of Data"
   ]
  },
  {
   "cell_type": "code",
   "execution_count": 3,
   "id": "5d810920-b9ff-4a71-a601-5322dfe5339b",
   "metadata": {},
   "outputs": [],
   "source": [
    "import pandas as pd\n",
    "import pickle as p\n",
    "import numpy as np\n",
    "import matplotlib.pyplot as plt\n",
    "import matplotlib\n",
    "from esda import G_Local\n",
    "from sklearn.metrics import pairwise_distances\n",
    "import tifffile\n",
    "import cv2\n",
    "import libpysal\n",
    "from mpl_toolkits.axes_grid1 import AxesGrid\n",
    "from skimage.transform import probabilistic_hough_line\n",
    "from skimage.draw import line as draw_line\n",
    "from skimage.morphology import binary_dilation, binary_opening, disk\n",
    "import skimage.morphology as morph\n",
    "from scipy.ndimage import label as scilabel\n",
    "from sklearn.neighbors import NearestNeighbors\n",
    "import warnings, tqdm"
   ]
  },
  {
   "cell_type": "code",
   "execution_count": null,
   "id": "d7a0d3c0-cb18-47fa-9905-271bbfddafeb",
   "metadata": {},
   "outputs": [],
   "source": [
    "# Set random seed for reproducibility\n",
    "np.random.seed(42)"
   ]
  },
  {
   "cell_type": "markdown",
   "id": "702a90f5-7497-4c34-b7ea-d5ccaca74f08",
   "metadata": {},
   "source": [
    "## Load Metals Data"
   ]
  },
  {
   "cell_type": "code",
   "execution_count": null,
   "id": "5361ee3e-1fd2-4239-b464-b37c1f38febb",
   "metadata": {},
   "outputs": [],
   "source": [
    "with open(\"./metals_df.pkl\", \"rb\") as fh:\n",
    "    metal_abundances = pd.DataFrame.from_records(p.load(fh)).drop(columns=[\"index\"])"
   ]
  },
  {
   "cell_type": "markdown",
   "id": "64b165c6-5f43-42c3-a1f1-40547852e968",
   "metadata": {},
   "source": [
    "## Load Gene Counts Data (Spatial Transcriptomics)"
   ]
  },
  {
   "cell_type": "code",
   "execution_count": null,
   "id": "a2bce650-ba2c-4396-90a5-f716f6bb8437",
   "metadata": {},
   "outputs": [],
   "source": [
    "with open(\"./gene_counts.pkl\", \"rb\") as fh:\n",
    "    gene_counts = pd.DataFrame.from_records(p.load(fh)).drop(columns=[\"index\"])"
   ]
  },
  {
   "cell_type": "markdown",
   "id": "22c93da7-99a7-4beb-b957-138817fe1cbc",
   "metadata": {},
   "source": [
    "## Compute Pairwise Distances for Metal Abundance Coordinates"
   ]
  },
  {
   "cell_type": "code",
   "execution_count": null,
   "id": "4a388439-1379-4b87-ba75-1ea36c71f2f7",
   "metadata": {},
   "outputs": [],
   "source": [
    "s = pd.Series(pairwise_distances(metal_abundances[[\"ST_x\", \"ST_y\"]]).flatten())"
   ]
  },
  {
   "cell_type": "markdown",
   "id": "b2d52e91-a3d1-4c49-9a25-cf5ef4676e09",
   "metadata": {},
   "source": [
    "## Load H&E Image"
   ]
  },
  {
   "cell_type": "code",
   "execution_count": null,
   "id": "6fcc4c10-f2d8-4adf-9634-fc2abce7821d",
   "metadata": {},
   "outputs": [],
   "source": [
    "hne_image = tifffile.imread('./_SS12251_092842.svs')\n",
    "im_small = cv2.resize(hne_image, None, fx=1/15, fy=1/15)"
   ]
  },
  {
   "cell_type": "markdown",
   "id": "e35ef766-de65-445d-afc3-1e622d32e3ee",
   "metadata": {},
   "source": [
    "## Define Function to Shift Colormap"
   ]
  },
  {
   "cell_type": "code",
   "execution_count": null,
   "id": "5cda3ebd-ae46-4d12-b43a-eb522ee7be96",
   "metadata": {},
   "outputs": [],
   "source": [
    "def shiftedColorMap(cmap, start=0, midpoint=0.5, stop=1.0, name='shiftedcmap'):\n",
    "    \"\"\"\n",
    "    Function to offset the center of a colormap, useful for visualizing data where the midpoint is critical.\n",
    "    \"\"\"\n",
    "    cdict = {'red': [], 'green': [], 'blue': [], 'alpha': []}\n",
    "    reg_index = np.linspace(start, stop, 257)\n",
    "    shift_index = np.hstack([\n",
    "        np.linspace(0.0, midpoint, 128, endpoint=False),\n",
    "        np.linspace(midpoint, 1.0, 129, endpoint=True)\n",
    "    ])\n",
    "    for ri, si in zip(reg_index, shift_index):\n",
    "        r, g, b, a = cmap(ri)\n",
    "        cdict['red'].append((si, r, r))\n",
    "        cdict['green'].append((si, g, g))\n",
    "        cdict['blue'].append((si, b, b))\n",
    "        cdict['alpha'].append((si, a, a))\n",
    "    newcmap = matplotlib.colors.LinearSegmentedColormap(name, cdict)\n",
    "    plt.register_cmap(cmap=newcmap)\n",
    "    return newcmap"
   ]
  },
  {
   "cell_type": "markdown",
   "id": "6bc9e5e7-34a5-4e6f-b343-3a07373346a5",
   "metadata": {},
   "source": [
    "## Perform Local G Analysis for Metal Hotspots"
   ]
  },
  {
   "cell_type": "markdown",
   "id": "b4d6db61-35e2-4d02-832a-0175b343f824",
   "metadata": {},
   "source": [
    "### Set threshold and compute spatial weights"
   ]
  },
  {
   "cell_type": "code",
   "execution_count": null,
   "id": "1a54fd0d-bad1-448c-9103-7cf6a3f67445",
   "metadata": {},
   "outputs": [],
   "source": [
    "threshold_mult = 1\n",
    "element = \"Fe56\"\n",
    "w = libpysal.weights.DistanceBand(metal_abundances[[\"ST_x\", \"ST_y\"]], threshold=(s[s>0].min()*np.sqrt(2))*threshold_mult+5)"
   ]
  },
  {
   "cell_type": "markdown",
   "id": "122ab8a6-676f-4d83-90f7-63b4eeb48686",
   "metadata": {},
   "source": [
    "### Compute Local G statistic"
   ]
  },
  {
   "cell_type": "code",
   "execution_count": null,
   "id": "f2a4f768-d722-458a-86a6-c3290f95c131",
   "metadata": {},
   "outputs": [],
   "source": [
    "lg = G_Local(metal_abundances[element], w, star=True)\n",
    "vmax, vmin = lg.Zs.max(), lg.Zs.min()"
   ]
  },
  {
   "cell_type": "markdown",
   "id": "e69fd96d-ace0-4dff-b86b-d8692e7e04a0",
   "metadata": {},
   "source": [
    "## Visualize Metal Hotspots on H&E Image"
   ]
  },
  {
   "cell_type": "code",
   "execution_count": null,
   "id": "ae12a8a2-a0e6-49a4-918f-6f52e99a9f3f",
   "metadata": {},
   "outputs": [],
   "source": [
    "plt.imshow(im_small)\n",
    "plt.scatter(*(metal_abundances[[\"ST_x\", \"ST_y\"]].values / 15).T.tolist(),\n",
    "            c=lg.Zs, cmap=shiftedColorMap(matplotlib.colormaps[\"seismic\"], midpoint=1 - vmax/(vmax + abs(vmin))), s=0.25)\n",
    "plt.xlabel(\"x coord\")\n",
    "plt.ylabel(\"y coord\")\n",
    "plt.colorbar(label=f\"{element} HotSpot\")\n",
    "plt.show()"
   ]
  },
  {
   "cell_type": "markdown",
   "id": "74c646ec-8201-4524-89a4-beabc8a45a82",
   "metadata": {},
   "source": [
    "## Load and Process Metal Data for Spatial Alignment"
   ]
  },
  {
   "cell_type": "code",
   "execution_count": null,
   "id": "8f9810c7-3166-4aeb-8ce0-6db4dca4e4fa",
   "metadata": {},
   "outputs": [],
   "source": [
    "# Pre-made stack of metals data\n",
    "xarray_metals = pd.read_pickle(\"./stack.pkl\")\n",
    "ref_img = cv2.imread(\"H_E_resized.tiff\")\n",
    "homography_matrix = pd.read_pickle(\"./homography_matrix_20.pkl\")"
   ]
  },
  {
   "cell_type": "markdown",
   "id": "f19f48ee-6ead-4860-9a8f-7073385dc4bc",
   "metadata": {},
   "source": [
    "### Warp metal images to align with H&E image"
   ]
  },
  {
   "cell_type": "code",
   "execution_count": null,
   "id": "f6efa87e-e393-48cd-85ba-a40bd1a5046f",
   "metadata": {},
   "outputs": [],
   "source": [
    "# Homography matrix warping\n",
    "warped_elements = {str(np.array(element)): cv2.warpPerspective(\n",
    "    (xarray_metals.loc[..., element]).values, homography_matrix,\n",
    "    (ref_img.shape[1], ref_img.shape[0]), borderValue=-1000)\n",
    "    for element in xarray_metals.coords[\"elements\"]}"
   ]
  },
  {
   "cell_type": "markdown",
   "id": "92d25ab2-aa29-421e-af56-085377fd1bf6",
   "metadata": {},
   "source": [
    "### Replace borderValue (-1000) with NaN"
   ]
  },
  {
   "cell_type": "code",
   "execution_count": null,
   "id": "1bbac272-20a3-4460-81a0-cd8daa62243f",
   "metadata": {},
   "outputs": [],
   "source": [
    "for k in warped_elements:\n",
    "    warped_elements[k][warped_elements[k] == -1000] = np.nan"
   ]
  },
  {
   "cell_type": "markdown",
   "id": "71ad13ad-5646-4f06-9c0c-4a203cb33558",
   "metadata": {},
   "source": [
    "## Save Processed Data"
   ]
  },
  {
   "cell_type": "code",
   "execution_count": null,
   "id": "94995d85-a508-4c62-a195-a771e4a51af4",
   "metadata": {},
   "outputs": [],
   "source": [
    "pd.to_pickle(warped_elements, \"./warped_metals.pkl\")"
   ]
  },
  {
   "cell_type": "markdown",
   "id": "0053f28c-509d-4fc0-93d9-d3143d532f78",
   "metadata": {},
   "source": [
    "## Load ST Data and Align with Metals Data"
   ]
  },
  {
   "cell_type": "code",
   "execution_count": null,
   "id": "8559612a-10fd-41f9-9a15-f5479833368b",
   "metadata": {},
   "outputs": [],
   "source": [
    "with open('./092842_17.pkl', 'rb') as f:\n",
    "    slide = pickle.load(f)\n",
    "slide_numpy = pd.read_pickle('./092842_17_np.pkl')\n",
    "gene_names = slide_numpy['genes']"
   ]
  },
  {
   "cell_type": "code",
   "execution_count": null,
   "id": "905228ed-885d-487f-aab8-30a99a0e194e",
   "metadata": {},
   "outputs": [],
   "source": [
    "ST_HE_coords = np.array([(np.array(slide.spot_locations.image_x[i]),\n",
    "                          np.array(slide.spot_locations.image_y[i])) for i in range(6159)])"
   ]
  },
  {
   "cell_type": "markdown",
   "id": "0f5112d5-7a31-477f-87dc-62acf13fa8a5",
   "metadata": {},
   "source": [
    "### Nearest Neighbor Matching Between Metal and ST Data"
   ]
  },
  {
   "cell_type": "code",
   "execution_count": null,
   "id": "98e9c7d7-e02a-41a9-8469-3dda2ac9a414",
   "metadata": {},
   "outputs": [],
   "source": [
    "nn = NearestNeighbors(n_neighbors=1).fit(ST_HE_coords)\n",
    "distances, indices = nn.kneighbors(metal_abundances[['ST_x', 'ST_y']].values)"
   ]
  },
  {
   "cell_type": "markdown",
   "id": "d86e37f8-9e88-42ac-b16e-39651c1ff0f6",
   "metadata": {},
   "source": [
    "### Create DataFrame for Mapped Spots"
   ]
  },
  {
   "cell_type": "code",
   "execution_count": null,
   "id": "0209e18d-1d21-4a68-9ea0-daa93d30473c",
   "metadata": {},
   "outputs": [],
   "source": [
    "ST_spots_df = pd.DataFrame({\n",
    "    'ST_spot_ID': range(len(ST_HE_coords)),\n",
    "    'ST_x': ST_HE_coords[:, 0],\n",
    "    'ST_y': ST_HE_coords[:, 1]\n",
    "})"
   ]
  },
  {
   "cell_type": "code",
   "execution_count": null,
   "id": "7cbcdb71-4ed9-466f-b71f-1b6257c0df90",
   "metadata": {},
   "outputs": [],
   "source": [
    "metal_spots_df = pd.DataFrame({\n",
    "    'metal_spot_ID': range(len(metal_abundances)),\n",
    "    'ST_spot_ID': indices.flatten()\n",
    "})"
   ]
  },
  {
   "cell_type": "markdown",
   "id": "7e5876d6-65dc-4a4d-be19-6be02b01a804",
   "metadata": {},
   "source": [
    "### Merge Metal and ST Data"
   ]
  },
  {
   "cell_type": "code",
   "execution_count": null,
   "id": "04371895-9c03-4b9e-8250-d946d960c6d3",
   "metadata": {},
   "outputs": [],
   "source": [
    "metals_data_coords_v2 = metal_abundances.copy()\n",
    "metals_data_coords_v2['ST_spot_ID'] = metal_spots_df['ST_spot_ID']\n",
    "metals_data_coords_v2 = metals_data_coords_v2.drop(['ST_x', 'ST_y'], axis=1)"
   ]
  },
  {
   "cell_type": "markdown",
   "id": "83710923-4822-4899-b4f8-552f4ef728a2",
   "metadata": {},
   "source": [
    "### Group by ST Spot ID and Save"
   ]
  },
  {
   "cell_type": "code",
   "execution_count": null,
   "id": "8f0e8cc1-d495-438c-8c3d-32d62ed83b08",
   "metadata": {},
   "outputs": [],
   "source": [
    "grouped_metal_spots = metals_data_coords_v2.groupby('ST_spot_ID').mean().reset_index()\n",
    "grouped_metal_spots = grouped_metal_spots.merge(ST_spots_df, on='ST_spot_ID')\n",
    "pd.to_pickle(grouped_metal_spots, \"./grouped_ST_metal_spots_JL.pkl\")"
   ]
  },
  {
   "cell_type": "code",
   "execution_count": null,
   "id": "1874ba32-6a00-450b-bfc2-2eeb5d725bc3",
   "metadata": {},
   "outputs": [],
   "source": [
    "#Summary\n",
    "print(\"Data processing complete. The grouped metal spots dataset has been saved.\")"
   ]
  }
 ],
 "metadata": {
  "kernelspec": {
   "display_name": "Python 3 (ipykernel)",
   "language": "python",
   "name": "python3"
  },
  "language_info": {
   "codemirror_mode": {
    "name": "ipython",
    "version": 3
   },
   "file_extension": ".py",
   "mimetype": "text/x-python",
   "name": "python",
   "nbconvert_exporter": "python",
   "pygments_lexer": "ipython3",
   "version": "3.11.9"
  }
 },
 "nbformat": 4,
 "nbformat_minor": 5
}
