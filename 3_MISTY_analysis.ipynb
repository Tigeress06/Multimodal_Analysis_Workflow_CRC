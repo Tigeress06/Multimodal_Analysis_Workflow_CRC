{
 "cells": [
  {
   "cell_type": "markdown",
   "id": "9b9057a8-b3eb-48f7-98aa-804af9fb48d4",
   "metadata": {},
   "source": [
    "# MISTy Analysis for Spatial Transcriptomics and Metal Abundance Data"
   ]
  },
  {
   "cell_type": "code",
   "execution_count": null,
   "id": "9025110a-8e7c-49c6-9f5e-b2f8a6085fe6",
   "metadata": {},
   "outputs": [],
   "source": [
    "### This Jupyter Notebook performs a comprehensive MISTy (Multi-View Interactions in Spatial Transcriptomics) analysis. The analysis integrates single-cell (SC) and spatial transcriptomics (ST) data with metal abundance measurements to explore cellular interactions and pathway-level influences.\n",
    "\n",
    "# Import necessary libraries\n",
    "import scanpy as sc"
   ]
  },
  {
   "cell_type": "code",
   "execution_count": null,
   "id": "af23b0c6-9e07-45d7-aebd-c54f5b893a44",
   "metadata": {},
   "outputs": [],
   "source": [
    "import scanpy as sc\n",
    "import squidpy as sq\n",
    "import decoupler as dc\n",
    "import plotnine as p9\n",
    "import liana as li\n",
    "from liana.method import MistyData\n",
    "import numpy as np\n",
    "import pandas as pd\n",
    "import pickle\n",
    "import matplotlib.pyplot as plt\n",
    "import seaborn as sns\n",
    "import cv2\n",
    "from mofapy2.run.entry_point import entry_point\n",
    "import h5py\n",
    "import mudata"
   ]
  },
  {
   "cell_type": "markdown",
   "id": "c9f0e6f8-1577-4433-8c16-40e1c9d98d4a",
   "metadata": {},
   "source": [
    "## Load data files"
   ]
  },
  {
   "cell_type": "code",
   "execution_count": null,
   "id": "d635867a-87f5-4dd4-b318-87243db223c6",
   "metadata": {},
   "outputs": [],
   "source": [
    "adata_st = sc.read_h5ad('ST_data_created_adata.h5ad')\n",
    "adata_st.var_names_make_unique()"
   ]
  },
  {
   "cell_type": "code",
   "execution_count": null,
   "id": "03e12c5c-2ac3-4304-b13f-88c74f640a6e",
   "metadata": {},
   "outputs": [],
   "source": [
    "sc_adata = pd.read_pickle(\"./SC_deconvolved_ST.pkl\")"
   ]
  },
  {
   "cell_type": "code",
   "execution_count": null,
   "id": "721369dc-63b1-4f49-b4c9-3a206cfda8fa",
   "metadata": {},
   "outputs": [],
   "source": [
    "data = pd.read_pickle(\"MISTy_model_all_data.pkl\")"
   ]
  },
  {
   "cell_type": "code",
   "execution_count": null,
   "id": "91d326b8-4402-41bf-b145-fb18011fa3c9",
   "metadata": {},
   "outputs": [],
   "source": [
    "spatial_tr = pd.read_pickle(\"MISTy_model_all_data_filtered.pkl\")"
   ]
  },
  {
   "cell_type": "code",
   "execution_count": null,
   "id": "647c6460-487d-4e0b-960b-db0361166792",
   "metadata": {},
   "outputs": [],
   "source": [
    "metals = pd.read_pickle(\"MISTy_model_metals_data.pkl\")"
   ]
  },
  {
   "cell_type": "markdown",
   "id": "c6cb5380-cf5f-47e5-aca2-23ae2e138d47",
   "metadata": {},
   "source": [
    "## Run progeny pathway analysis"
   ]
  },
  {
   "cell_type": "code",
   "execution_count": null,
   "id": "62a3a7fb-5e8f-4f98-9a0c-91c26492e387",
   "metadata": {},
   "outputs": [],
   "source": [
    "dc.run_mlm(\n",
    "    mat=adata_st,\n",
    "    net=dc.get_progeny(organism='human', top=500),\n",
    "    source='source',\n",
    "    target='target',\n",
    "    weight='weight',\n",
    "    verbose=True,\n",
    "    use_raw=False,\n",
    ")"
   ]
  },
  {
   "cell_type": "markdown",
   "id": "a27fd7f3-34ab-4350-95aa-d7fb0c8bf114",
   "metadata": {},
   "source": [
    "### Convert estimated pathways into an AnnData object"
   ]
  },
  {
   "cell_type": "code",
   "execution_count": null,
   "id": "0fde5bed-2ca1-4c03-9a70-ee4f77af72e3",
   "metadata": {},
   "outputs": [],
   "source": [
    "acts_progeny = li.ut.obsm_to_adata(adata_st, 'mlm_estimate')"
   ]
  },
  {
   "cell_type": "markdown",
   "id": "acde05cb-6e34-4dd1-8a16-4dde1981dbc7",
   "metadata": {},
   "source": [
    "### Convert image colors"
   ]
  },
  {
   "cell_type": "code",
   "execution_count": null,
   "id": "5d4e6e74-3f11-42a6-8954-fb90e0a03693",
   "metadata": {},
   "outputs": [],
   "source": [
    "acts_progeny.uns[\"spatial\"][\"092842\"][\"images\"]['hires'] = cv2.cvtColor(\n",
    "    acts_progeny.uns[\"spatial\"][\"092842\"][\"images\"]['hires'], cv2.COLOR_BGR2RGB\n",
    ")"
   ]
  },
  {
   "cell_type": "markdown",
   "id": "ac85a92c-a58a-40fe-ad85-c247dbf0ffa9",
   "metadata": {},
   "source": [
    "## Spatial neighborhood analysis"
   ]
  },
  {
   "cell_type": "code",
   "execution_count": null,
   "id": "ea3314d1-01d2-4d26-9336-f85673287195",
   "metadata": {},
   "outputs": [],
   "source": [
    "li.ut.spatial_neighbors(adata_st, cutoff=0.1, bandwidth=200, set_diag=False)\n",
    "li.ut.spatial_neighbors(acts_progeny, cutoff=0.1, bandwidth=200, set_diag=False)"
   ]
  },
  {
   "cell_type": "markdown",
   "id": "cd869fb3-c315-4671-8e44-55405c3de2e1",
   "metadata": {},
   "source": [
    "## Load metal abundance data"
   ]
  },
  {
   "cell_type": "code",
   "execution_count": null,
   "id": "d3c793c4-4c40-427c-bde5-749df81d2187",
   "metadata": {},
   "outputs": [],
   "source": [
    "with open(\"./grouped_ST_metal_spots_records_edge_filtered.pkl\", \"rb\") as fh:\n",
    "    metal_abundances = pd.DataFrame.from_records(pickle.load(fh)).drop(columns=[\"index\"])\n",
    "metal_abundances = sc.read_h5ad(\"metal_ST.h5ad\").obsm[\"metals\"]"
   ]
  },
  {
   "cell_type": "markdown",
   "id": "c555a750-5f43-450e-8d6e-db387b916efa",
   "metadata": {},
   "source": [
    "## Map metal abundances onto spatial transcriptomics data"
   ]
  },
  {
   "cell_type": "code",
   "execution_count": null,
   "id": "a925928d-7393-489d-b6d8-b5f306bc8ca9",
   "metadata": {},
   "outputs": [],
   "source": [
    "metal_df = pd.DataFrame(\n",
    "    np.nan, index=adata_st.obsm[\"mlm_estimate\"].index, columns=metal_abundances.columns[1:-2]\n",
    ")"
   ]
  },
  {
   "cell_type": "code",
   "execution_count": null,
   "id": "0e07b5ab-fb26-475b-9324-ab2f4eb24aac",
   "metadata": {},
   "outputs": [],
   "source": [
    "metal_df.iloc[metal_abundances[\"ST_spot_ID\"].values, :] = metal_abundances.iloc[:, 1:-2]\n",
    "adata_st.obsm[\"metals\"] = metal_df\n",
    "adata_metals = li.ut.obsm_to_adata(adata_st, \"metals\")"
   ]
  },
  {
   "cell_type": "markdown",
   "id": "8ba45680-0992-4da6-8914-e3793d99a263",
   "metadata": {},
   "source": [
    "## Preprocess spatial transcriptomics data"
   ]
  },
  {
   "cell_type": "code",
   "execution_count": null,
   "id": "f8c416f1-eedc-4c68-89a6-9f08c4b0e161",
   "metadata": {},
   "outputs": [],
   "source": [
    "adata_st_new = adata_st.copy()\n",
    "adata_st_new.var[\"mt\"] = adata_st_new.var_names.str.startswith(\"MT-\")\n",
    "sc.pp.calculate_qc_metrics(adata_st_new, qc_vars=[\"mt\"], inplace=True)\n",
    "sc.pp.filter_genes(adata_st_new, min_cells=0.075 * len(adata_st_new))\n",
    "adata_st_new.layers['counts'] = adata_st_new.X.copy()\n",
    "sc.pp.normalize_total(adata_st_new, target_sum=1e4)\n",
    "sc.pp.log1p(adata_st_new)\n",
    "sc.pp.highly_variable_genes(adata_st_new, flavor=\"seurat\", n_top_genes=8000)"
   ]
  },
  {
   "cell_type": "markdown",
   "id": "f6d98411-9b26-4f85-b039-6249065dbb32",
   "metadata": {},
   "source": [
    "## Perform spatial autocorrelation analysis"
   ]
  },
  {
   "cell_type": "code",
   "execution_count": null,
   "id": "37542304-723d-4b89-babb-adc9bcaa76ac",
   "metadata": {},
   "outputs": [],
   "source": [
    "sq.gr.spatial_autocorr(adata_st_new, seed=42)\n",
    "sq.gr.spatial_autocorr(adata_st_new, mode=\"geary\", seed=42)"
   ]
  },
  {
   "cell_type": "markdown",
   "id": "e9588934-c525-49cd-9ffb-1da87c56df05",
   "metadata": {},
   "source": [
    "## Define MISTy models"
   ]
  },
  {
   "cell_type": "code",
   "execution_count": null,
   "id": "2cbbe550-8a21-4026-a18a-eaec95acb273",
   "metadata": {},
   "outputs": [],
   "source": [
    "misty = MistyData(data={\n",
    "    \"cell_types\": sc_adata,\n",
    "    \"ST\": adata_st_new,\n",
    "    \"intra\": adata_metals,\n",
    "    \"Pathways\": acts_progeny\n",
    "})\n",
    "misty(verbose=True, model=li.method.sp.RandomForestModel, n_jobs=-1, max_depth=6, seed=1337, bypass_intra=True)"
   ]
  },
  {
   "cell_type": "markdown",
   "id": "6ef1ba98-c65d-4fa6-a080-3e9411d68faf",
   "metadata": {},
   "source": [
    "## Save results"
   ]
  },
  {
   "cell_type": "code",
   "execution_count": null,
   "id": "40c71db8-a53b-43b5-a85d-eb4b439d88ff",
   "metadata": {},
   "outputs": [],
   "source": [
    "misty.write(\"misty.h5mu\")"
   ]
  },
  {
   "cell_type": "markdown",
   "id": "2b67cc9d-bd70-48b4-98bb-413a51548d6e",
   "metadata": {},
   "source": [
    "## Refine results"
   ]
  },
  {
   "cell_type": "code",
   "execution_count": null,
   "id": "96edc802-780b-4c27-988f-8ffc3f6b4c03",
   "metadata": {},
   "outputs": [],
   "source": [
    "final_filtered_keys = ['Ca44', 'Cu63', 'K41', 'Mg24', 'Fe56', 'Zn66', 'Mn55']\n",
    "for key in [\"target_metrics\", \"interactions\"]:\n",
    "    misty.uns[key] = misty.uns[key][misty.uns[key][\"target\"].isin(final_filtered_keys)]"
   ]
  },
  {
   "cell_type": "code",
   "execution_count": null,
   "id": "0a6d9213-20d4-4118-a386-7e65d622c790",
   "metadata": {},
   "outputs": [],
   "source": [
    "pd.to_pickle({key: misty.uns[key] for key in [\"target_metrics\", \"interactions\"]}, \"MISTY_results.pkl\")"
   ]
  },
  {
   "cell_type": "code",
   "execution_count": null,
   "id": "9cdede7b-f279-4234-b1a1-1af3c128ef2f",
   "metadata": {},
   "outputs": [],
   "source": [
    "# Plot interaction metrics\n",
    "li.pl.target_metrics(misty, stat='gain_R2')"
   ]
  }
 ],
 "metadata": {
  "kernelspec": {
   "display_name": "Python 3 (ipykernel)",
   "language": "python",
   "name": "python3"
  },
  "language_info": {
   "codemirror_mode": {
    "name": "ipython",
    "version": 3
   },
   "file_extension": ".py",
   "mimetype": "text/x-python",
   "name": "python",
   "nbconvert_exporter": "python",
   "pygments_lexer": "ipython3",
   "version": "3.11.9"
  }
 },
 "nbformat": 4,
 "nbformat_minor": 5
}
