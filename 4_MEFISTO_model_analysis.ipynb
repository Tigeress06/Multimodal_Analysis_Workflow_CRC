{
 "cells": [
  {
   "cell_type": "markdown",
   "id": "fec264e7-9a7a-4488-81d1-baa6731b0ca9",
   "metadata": {},
   "source": [
    "# MEFISTO Model Building"
   ]
  },
  {
   "cell_type": "markdown",
   "id": "bc0f90c0-850e-4654-ac5c-7f9a206a6e15",
   "metadata": {},
   "source": [
    "### This script performs a MEFISTO (Multi-Omics Factor Analysis with Spatial and Temporal Structure) analysis using metal abundance and spatial transcriptomics data. The script includes data preprocessing, spatial filtering, and training of the MEFISTO model."
   ]
  },
  {
   "cell_type": "markdown",
   "id": "5e824af1-5ea1-48bc-87c1-c9a8ce3a2a3a",
   "metadata": {},
   "source": [
    "## Model Building"
   ]
  },
  {
   "cell_type": "code",
   "execution_count": null,
   "id": "5fda1c77-8e4d-4633-83ae-b91ba6c7791e",
   "metadata": {},
   "outputs": [],
   "source": [
    "import numpy as np\n",
    "import pandas as pd\n",
    "import scanpy as sc\n",
    "import pickle\n",
    "import matplotlib.pyplot as plt\n",
    "import seaborn as sns"
   ]
  },
  {
   "cell_type": "code",
   "execution_count": null,
   "id": "76d2f42f-24ab-4559-9956-6021f9ec3e1f",
   "metadata": {},
   "outputs": [],
   "source": [
    "from mofapy2.run.entry_point import entry_point\n",
    "import mofapy2\n",
    "import argparse\n",
    "import h5py\n",
    "import alphashape\n",
    "from shapely.geometry import MultiPoint, Point\n",
    "import geopandas as gpd\n",
    "import libpysal\n",
    "from sklearn.metrics import pairwise_distances"
   ]
  },
  {
   "cell_type": "markdown",
   "id": "61291c69-822d-431c-85e3-0b67f7f4de15",
   "metadata": {},
   "source": [
    "### Load and preprocess metal abundance data"
   ]
  },
  {
   "cell_type": "code",
   "execution_count": null,
   "id": "7c4be085-bbd6-4fcd-b0ad-bb933dabe939",
   "metadata": {},
   "outputs": [],
   "source": [
    "with open(\"./grouped_ST_metal_spots_records_edge_filtered.pkl\", \"rb\") as fh:\n",
    "    metal_abundances = pd.DataFrame.from_records(pickle.load(fh)).drop(columns=[\"index\"])"
   ]
  },
  {
   "cell_type": "markdown",
   "id": "b1296972-1098-443e-b239-ce84c98ddc20",
   "metadata": {},
   "source": [
    "### Compute spatial distances"
   ]
  },
  {
   "cell_type": "code",
   "execution_count": null,
   "id": "207dbfcd-51b6-48e1-8e42-13d44653b406",
   "metadata": {},
   "outputs": [],
   "source": [
    "np.random.seed(42)\n",
    "s = pd.Series(pairwise_distances(metal_abundances[[\"ST_x\", \"ST_y\"]]).flatten())\n",
    "n_neighbors_drop = 2"
   ]
  },
  {
   "cell_type": "markdown",
   "id": "79817f5f-96e9-47b5-8e9c-d6c8008e2319",
   "metadata": {},
   "source": [
    "### Apply Alpha Shape filtering to remove edge effects"
   ]
  },
  {
   "cell_type": "code",
   "execution_count": null,
   "id": "2f9a5601-8501-4b7b-a8b8-a82de42a27a8",
   "metadata": {},
   "outputs": [],
   "source": [
    "alpha_shape = alphashape.alphashape(metal_abundances[[\"ST_x\", \"ST_y\"].values], 1/(s[s>0].min()*np.sqrt(2)))\n",
    "points = gpd.GeoSeries([Point(*x) for x in metal_abundances[[\"ST_x\", \"ST_y\"]].values.tolist()])\n",
    "metal_abundances = metal_abundances[(~points.intersects(alpha_shape.exterior.buffer(s[s>0].min()*np.sqrt(2)*n_neighbors_drop))).values]"
   ]
  },
  {
   "cell_type": "markdown",
   "id": "28f908b1-c20f-4483-b369-2c238bc081d5",
   "metadata": {},
   "source": [
    "### Load spatial transcriptomics data and remap metal abundances"
   ]
  },
  {
   "cell_type": "code",
   "execution_count": null,
   "id": "284dfbba-247a-4b7a-85ac-ca432d9a3a1c",
   "metadata": {},
   "outputs": [],
   "source": [
    "adata_st_metals = sc.read_h5ad(filename=\"metal_ST.h5ad\")\n",
    "metal_abundances_v2 = adata_st_metals.obsm[\"metals\"]\n",
    "metal_coords_v2 = metal_abundances_v2[[\"ST_x\", \"ST_y\"]].reset_index(drop=True)"
   ]
  },
  {
   "cell_type": "markdown",
   "id": "327b1537-7aa9-4d86-8eff-d0ee913c5dae",
   "metadata": {},
   "source": [
    "### Remap indices"
   ]
  },
  {
   "cell_type": "code",
   "execution_count": null,
   "id": "72996310-216e-4720-88de-49583ea5ed28",
   "metadata": {},
   "outputs": [],
   "source": [
    "mapping = np.array(np.where(pairwise_distances(metal_coords_v2, metal_abundances[[\"ST_x\", \"ST_y\"]]) == 0)).T[:,0]\n",
    "adata_st_metals_remapped = adata_st_metals[mapping]\n",
    "adata_st_metals_remapped.write_h5ad(filename=\"metal_ST_remapped_mefisto.h5ad\")"
   ]
  },
  {
   "cell_type": "markdown",
   "id": "a98f907e-64cf-4447-95f2-907ac1497d6c",
   "metadata": {},
   "source": [
    "### Prepare data for MEFISTO"
   ]
  },
  {
   "cell_type": "code",
   "execution_count": null,
   "id": "397929e2-6b69-49ee-9b1a-553de64867bc",
   "metadata": {},
   "outputs": [],
   "source": [
    "data = pd.read_pickle(\"MEFISTO_model_all_data.pkl\")\n",
    "metal_view = adata_st_metals_remapped.obsm[\"metals\"].reset_index(drop=True)\n",
    "metal_view = metal_view.loc[:, \"Ba138\":\"As75\"].assign(sample=pd.Series(np.arange(len(metal_view))).map(lambda x: f\"sample{x}\"))\n",
    "metal_view = metal_view.melt(id_vars=[\"sample\"]).assign(view=\"metals\")\n",
    "metal_view.columns = [\"sample\", \"feature\", \"value\", \"view\"]\n",
    "data = pd.concat([data.query(\"view!='metals'\"), metal_view])\n",
    "data[\"value\"] = data[\"value\"].astype(float)\n",
    "data = data.drop_duplicates(subset=[\"view\", \"feature\", \"sample\"])"
   ]
  },
  {
   "cell_type": "markdown",
   "id": "ceb51fc4-75a6-4fee-9c66-acb904f10380",
   "metadata": {},
   "source": [
    "### Log transform spatial and single-cell data"
   ]
  },
  {
   "cell_type": "code",
   "execution_count": null,
   "id": "8f67e7d6-74fc-4194-a0d6-6383000617a7",
   "metadata": {},
   "outputs": [],
   "source": [
    "transposed_cov = pd.read_pickle(\"./metal_coord_covariate_2.pkl\")\n",
    "data.loc[data[\"view\"] == \"ST\", \"value\"] = np.log1p(data.loc[data[\"view\"] == \"ST\", \"value\"])\n",
    "data.loc[data[\"view\"] == \"SC\", \"value\"] = np.log1p(data.loc[data[\"view\"] == \"SC\", \"value\"])"
   ]
  },
  {
   "cell_type": "markdown",
   "id": "77d0998d-3468-43d8-9af7-f5915353df1c",
   "metadata": {},
   "source": [
    "### Initialize and configure MEFISTO model"
   ]
  },
  {
   "cell_type": "code",
   "execution_count": null,
   "id": "98b0b47e-e0f1-4afc-840d-1ff282fb738b",
   "metadata": {},
   "outputs": [],
   "source": [
    "ent = entry_point()"
   ]
  },
  {
   "cell_type": "code",
   "execution_count": null,
   "id": "044a7c4a-a16b-40ca-ae7c-6ec9f55cc9d9",
   "metadata": {},
   "outputs": [],
   "source": [
    "ent.set_data_df(data, likelihoods=[\"gaussian\", \"gaussian\", \"gaussian\"])\n",
    "ent.set_covariates(transposed_cov, covariates_names=[\"x_coordinate\", \"y_coordinate\"])\n",
    "ent.set_data_options(scale_views=False, use_float32=True)\n",
    "ent.set_model_options(factors=20, spikeslab_weights=True, ard_weights=True)\n",
    "ent.set_train_options(convergence_mode=\"fast\", dropR2=0.001, gpu_mode=True, seed=1, save_interrupted=True)"
   ]
  },
  {
   "cell_type": "markdown",
   "id": "ae7a9eac-0119-485b-b0ce-5f7ac3fe0b3d",
   "metadata": {},
   "source": [
    "### Set smoothing options and build the model"
   ]
  },
  {
   "cell_type": "code",
   "execution_count": null,
   "id": "80b34b93-ce15-4610-a403-a193146e83ad",
   "metadata": {},
   "outputs": [],
   "source": [
    "n_inducing = 1000\n",
    "ent.set_smooth_options(sparseGP=True, frac_inducing=n_inducing/3984, start_opt=10, opt_freq=10)\n",
    "ent.build()"
   ]
  },
  {
   "cell_type": "markdown",
   "id": "1bc297e1-194f-474b-a972-5215cf956fdd",
   "metadata": {},
   "source": [
    "### Run the MEFISTO model"
   ]
  },
  {
   "cell_type": "code",
   "execution_count": null,
   "id": "e0f0fb8c-07b8-4608-a58a-0b7af5de65de",
   "metadata": {},
   "outputs": [],
   "source": [
    "ent.run()"
   ]
  },
  {
   "cell_type": "code",
   "execution_count": null,
   "id": "15f46688-cdfe-4b3d-8557-0d57674e81c0",
   "metadata": {},
   "outputs": [],
   "source": [
    "# Save the trained model\n",
    "ent.save(\"./MEFISTO_model_v4.hdf5\")"
   ]
  }
 ],
 "metadata": {
  "kernelspec": {
   "display_name": "Python 3 (ipykernel)",
   "language": "python",
   "name": "python3"
  },
  "language_info": {
   "codemirror_mode": {
    "name": "ipython",
    "version": 3
   },
   "file_extension": ".py",
   "mimetype": "text/x-python",
   "name": "python",
   "nbconvert_exporter": "python",
   "pygments_lexer": "ipython3",
   "version": "3.11.9"
  }
 },
 "nbformat": 4,
 "nbformat_minor": 5
}
