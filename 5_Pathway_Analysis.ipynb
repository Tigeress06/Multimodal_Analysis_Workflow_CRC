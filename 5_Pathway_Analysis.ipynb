{
 "cells": [
  {
   "cell_type": "markdown",
   "id": "1cd2f08f-3c39-4e45-a7a1-262d23bb020e",
   "metadata": {},
   "source": [
    "# Pathway Enrichment Analysis of Dysregulated Genes in Colon Cancer"
   ]
  },
  {
   "cell_type": "markdown",
   "id": "303f2761-9a27-466c-a2b5-c86e046c5f83",
   "metadata": {},
   "source": [
    "### This analysis identifies significantly enriched biological pathways associated with differentially expressed genes (DEGs) in colon cancer. Using gene set enrichment techniques, we explore key molecular functions, cellular processes, and signaling pathways disrupted in colon tumor samples. Visualizations such as bar plots and dot plots highlight pathway significance, offering insights into potential therapeutic targets and disease mechanisms."
   ]
  },
  {
   "cell_type": "code",
   "execution_count": null,
   "id": "6a036618-e622-42dc-afbd-e32a47f768e7",
   "metadata": {},
   "outputs": [],
   "source": [
    "import scanpy as sc\n",
    "import gseapy as gs\n",
    "import rpy2.robjects as robjects\n",
    "from rpy2.robjects.packages import importr\n",
    "from rpy2.robjects import pandas2ri, numpy2ri\n",
    "import numpy as np\n",
    "import pandas as pd\n",
    "import dask\n",
    "from dask.diagnostics import ProgressBar\n",
    "from scipy.stats import spearmanr\n",
    "import os\n",
    "import tqdm\n",
    "import matplotlib.pyplot as plt\n",
    "from functools import reduce"
   ]
  },
  {
   "cell_type": "markdown",
   "id": "ad9646c6-116e-4885-ad37-9cc96a4b28f4",
   "metadata": {},
   "source": [
    "## Activate rpy2 conversion for Pandas and NumPy"
   ]
  },
  {
   "cell_type": "code",
   "execution_count": null,
   "id": "1535692b-52cf-424b-941e-5f1cfff7a5ac",
   "metadata": {},
   "outputs": [],
   "source": [
    "numpy2ri.activate()\n",
    "pandas2ri.activate()\n",
    "ev = importr('EnhancedVolcano')"
   ]
  },
  {
   "cell_type": "code",
   "execution_count": null,
   "id": "e80696bc-8b23-4d88-917c-d47ac99654d8",
   "metadata": {},
   "outputs": [],
   "source": [
    "def correlate_metals(X, metal_vector, names):\n",
    "    \"\"\"\n",
    "    Compute Spearman correlation between gene expression and metal levels.\n",
    "    \"\"\"\n",
    "    spearman_results = {gene: spearmanr(X[:, i], metal_vector) for i, gene in enumerate(names)}\n",
    "    spearman_results_df = pd.DataFrame({\n",
    "        gene: {\"p\": res.pvalue, \"r\": res.correlation, \"z\": 0.5 * np.log((1 + res.correlation) / (1 - res.correlation))}\n",
    "        for gene, res in spearman_results.items()\n",
    "    }).T\n",
    "    return spearman_results_df"
   ]
  },
  {
   "cell_type": "markdown",
   "id": "ce252732-94b7-42d6-9ed6-75e09367ef42",
   "metadata": {},
   "source": [
    "## Load Data"
   ]
  },
  {
   "cell_type": "code",
   "execution_count": null,
   "id": "30645ade-efb4-4dcf-a85e-e37bbe9768ab",
   "metadata": {},
   "outputs": [],
   "source": [
    "adata_st_metals = sc.read_h5ad(filename=\"metal_ST.h5ad\")"
   ]
  },
  {
   "cell_type": "markdown",
   "id": "4b78ee05-6aa3-4500-944f-8db87eaa3802",
   "metadata": {},
   "source": [
    "## Compute Metal-Gene Correlations"
   ]
  },
  {
   "cell_type": "code",
   "execution_count": null,
   "id": "72071e25-b07f-4ace-8494-ac4baf10a55c",
   "metadata": {},
   "outputs": [],
   "source": [
    "metal_results = {}\n",
    "for metal in adata_st_metals.obsm[\"metals\"].columns[4:-1]:\n",
    "    metal_results[metal] = dask.delayed(correlate_metals)(\n",
    "        adata_st_metals.X, adata_st_metals.obsm[\"metals\"][metal], adata_st_metals.var_names\n",
    "    )"
   ]
  },
  {
   "cell_type": "code",
   "execution_count": null,
   "id": "8eadeaf5-4847-4393-852d-9b3552810d67",
   "metadata": {},
   "outputs": [],
   "source": [
    "with ProgressBar():\n",
    "    metal_results_v2 = dask.compute(metal_results, scheduler=\"processes\", num_workers=20)[0]"
   ]
  },
  {
   "cell_type": "markdown",
   "id": "6871289b-6877-4e22-b8fb-1a7a19732587",
   "metadata": {},
   "source": [
    "## Save Correlation Results"
   ]
  },
  {
   "cell_type": "code",
   "execution_count": null,
   "id": "a973ef94-190f-4bcb-9f17-50b000b77169",
   "metadata": {},
   "outputs": [],
   "source": [
    "correlation_file = \"spearman_corr_metal_dict.pkl\"\n",
    "if not os.path.exists(correlation_file):\n",
    "    pd.to_pickle(metal_results_v2, correlation_file)\n",
    "metal_results_v2 = pd.read_pickle(correlation_file)"
   ]
  },
  {
   "cell_type": "markdown",
   "id": "8b828f29-37b5-40a4-87bf-7c96fb7b3b15",
   "metadata": {},
   "source": [
    "## Perform Pathway Enrichment Analysis"
   ]
  },
  {
   "cell_type": "code",
   "execution_count": null,
   "id": "71720701-4948-4be2-949a-a4a7c4ed8e2c",
   "metadata": {},
   "outputs": [],
   "source": [
    "n_genes = 150\n",
    "pathway_associations = {}\n",
    "pos_associations = {}"
   ]
  },
  {
   "cell_type": "code",
   "execution_count": null,
   "id": "e5312f65-ab3e-4261-aff2-422dfacf58e0",
   "metadata": {},
   "outputs": [],
   "source": [
    "for metal, results in metal_results_v2.items():\n",
    "    try:\n",
    "        enr = gs.enrichr(\n",
    "            gene_list=results.query(\"z>0\").sort_values(\"p\").index[:n_genes].tolist(),\n",
    "            gene_sets=[\"MSigDB_Hallmark_2020\", \"Reactome_2022\"],\n",
    "            background=adata_st_metals.var_names,\n",
    "            outdir=None,\n",
    "        )\n",
    "        enr_results = enr.results[enr.results.Gene_set.isin([\"Reactome_2022\", \"MSigDB_Hallmark_2020\"])]\n",
    "        enr_results = enr_results.assign(Term=lambda x: x.Term.str.split(\" R-HSA\").str[0])\n",
    "    except:\n",
    "        enr_results = metal\n",
    "    pos_associations[metal] = enr_results\n",
    "pathway_associations[\"pos\"] = pos_associations"
   ]
  },
  {
   "cell_type": "markdown",
   "id": "d5e76962-100e-4def-aff2-2323487f6bf5",
   "metadata": {},
   "source": [
    "## Save Pathway Associations"
   ]
  },
  {
   "cell_type": "code",
   "execution_count": null,
   "id": "bf0628c2-7029-4f34-a6cb-24680121aae8",
   "metadata": {},
   "outputs": [],
   "source": [
    "pathway_file = f\"pathway_associations_n{n_genes}.pkl\"\n",
    "pd.to_pickle(pathway_associations, pathway_file)"
   ]
  },
  {
   "cell_type": "code",
   "execution_count": null,
   "id": "c570c851-7a65-43d6-bf20-6a30f6f56261",
   "metadata": {},
   "outputs": [],
   "source": [
    "# Export Results to Excel\n",
    "for category in pathway_associations:\n",
    "    with pd.ExcelWriter(f'{category}_pathways_n{n_genes}.xlsx', engine='openpyxl') as writer:\n",
    "        for metal, df in pathway_associations[category].items():\n",
    "            if isinstance(df, pd.DataFrame):\n",
    "                df[df[\"Adjusted P-value\"] <= 0.05].to_excel(writer, sheet_name=metal)"
   ]
  },
  {
   "cell_type": "markdown",
   "id": "c33bc96d-0e40-4f4c-95bb-434fdac855f2",
   "metadata": {},
   "source": [
    "## Plot Results (Example for Fe56)"
   ]
  },
  {
   "cell_type": "code",
   "execution_count": null,
   "id": "5d21d505-f3ac-4c5b-8fa7-9eaa0c61cc82",
   "metadata": {},
   "outputs": [],
   "source": [
    "plt.figure(figsize=(8, 6))\n",
    "plt.hist(metal_results_v2[\"Fe56\"][\"r\"], bins=50, color='blue', alpha=0.7)\n",
    "plt.xlabel(\"Spearman Correlation\")\n",
    "plt.ylabel(\"Frequency\")\n",
    "plt.title(\"Distribution of Gene-Metal Correlations for Fe56\")\n",
    "plt.show()"
   ]
  },
  {
   "cell_type": "code",
   "execution_count": null,
   "id": "06e113d2-9904-460b-9acd-df60acf16b14",
   "metadata": {},
   "outputs": [],
   "source": [
    "## Pathway Enrichment Visualization"
   ]
  }
 ],
 "metadata": {
  "kernelspec": {
   "display_name": "Python 3 (ipykernel)",
   "language": "python",
   "name": "python3"
  },
  "language_info": {
   "codemirror_mode": {
    "name": "ipython",
    "version": 3
   },
   "file_extension": ".py",
   "mimetype": "text/x-python",
   "name": "python",
   "nbconvert_exporter": "python",
   "pygments_lexer": "ipython3",
   "version": "3.11.9"
  }
 },
 "nbformat": 4,
 "nbformat_minor": 5
}
